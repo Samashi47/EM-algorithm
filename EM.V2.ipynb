{
 "cells": [
  {
   "cell_type": "code",
   "execution_count": null,
   "id": "initial_id",
   "metadata": {
    "collapsed": true
   },
   "outputs": [],
   "source": [
    "from matplotlib import pyplot as plt\n",
    "import numpy as np\n",
    "\n",
    "# Exponent function for estimating e\n",
    "exponent_func = np.vectorize(lambda x, std: np.exp((-1.0 * x) / (2 * std)))\n",
    "\n",
    "\n",
    "# Performs the E step give a list of x values, a list of means and a matrix of estimated values \n",
    "def E_step(x_list, mean_list, e_matrix):\n",
    "    # Compute the standard deviation\n",
    "    std_list = get_std(x_list, mean_list, e_matrix)\n",
    "    estimated = list()\n",
    "    for i, std in enumerate(std_list):\n",
    "        estimated.append(exponent_func(np.square(x_list - mean_list[i]), std))\n",
    "    # Calculating denominator\n",
    "    estimated = np.array(estimated).transpose()\n",
    "    for i, n in enumerate(estimated):\n",
    "        estimated[i] /= n.sum()\n",
    "    return estimated\n",
    "\n",
    "\n",
    "# Performs the M step give a list of x values, a list of means\n",
    "def M_step(x_list, e_matrix):\n",
    "    # Calculating numerator\n",
    "    numerator = np.dot(x_list, e_matrix)\n",
    "    # Calculating denominator\n",
    "    denominator = e_matrix.sum(axis=0)\n",
    "    return np.divide(numerator, denominator)\n",
    "\n",
    "\n",
    "# Compute the standard deviation\n",
    "def get_std(x_list, mean_list, e_matrix):\n",
    "    x_vector = x_list[np.newaxis].transpose()\n",
    "    var = np.square(mean_list - x_vector) * e_matrix\n",
    "    return np.sqrt(var.sum(axis=0) / e_matrix.sum(axis=0))\n",
    "\n",
    "\n",
    "# Computes theta\n",
    "def get_theta(e_matrix):\n",
    "    return e_matrix.sum(axis=0) / len(e_matrix)"
   ]
  }
 ],
 "metadata": {
  "kernelspec": {
   "display_name": "Python 3",
   "language": "python",
   "name": "python3"
  },
  "language_info": {
   "codemirror_mode": {
    "name": "ipython",
    "version": 2
   },
   "file_extension": ".py",
   "mimetype": "text/x-python",
   "name": "python",
   "nbconvert_exporter": "python",
   "pygments_lexer": "ipython2",
   "version": "2.7.6"
  }
 },
 "nbformat": 4,
 "nbformat_minor": 5
}
