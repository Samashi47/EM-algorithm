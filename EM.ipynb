{
 "cells": [
  {
   "cell_type": "markdown",
   "source": [
    "##### MST IASD 2023-2024 (Département Génie Informatique)\n",
    "##### Sujet 8 : Méthode probabiliste\n",
    "##### Group membres : Chibani Fahd,Samady Ahmed et FAKHRE-EDDINE MOHAMED AMINE\n",
    "##### Dataset: \n",
    "##### Modèle : EM-algorithme"
   ],
   "metadata": {
    "collapsed": false
   },
   "id": "d98f06c88901487e"
  },
  {
   "cell_type": "markdown",
   "source": [
    "# What is the Expectation-Maximization algorithm"
   ],
   "metadata": {
    "collapsed": false
   },
   "id": "23dfa359180e7700"
  },
  {
   "cell_type": "markdown",
   "source": [
    "###### The Expectation-Maximization (EM) algorithm is a powerful statistical technique widely employed in various fields, including machine learning, statistics, and data analysis. Developed as a general framework for estimating parameters in probabilistic models, EM is particularly adept at handling situations involving incomplete or missing data."
   ],
   "metadata": {
    "collapsed": false
   },
   "id": "a680bc1b3a7226e0"
  },
  {
   "cell_type": "markdown",
   "source": [
    "# Uses of EM Algorithm"
   ],
   "metadata": {
    "collapsed": false
   },
   "id": "474b87014656668b"
  },
  {
   "cell_type": "markdown",
   "source": [
    "###### - Used in part-of-speech tagging to identify and label parts of speech in a given text.\n",
    "###### - Used as the basis of the unsupervised learning of clusters.\n",
    "###### - Used in bioinformatics for tasks such as protein structure prediction and gene expression analysis.\n",
    "###### - Applied in pattern recognition tasks, such as handwriting recognition and face recognition.\n",
    "###### - Used in the field of image processing for tasks such as image segmentation and object recognition.\n",
    "###### These are just a few examples, and the EM algorithm has broad applicability across different domains"
   ],
   "metadata": {
    "collapsed": false
   },
   "id": "4a71f88ac7cef594"
  },
  {
   "cell_type": "markdown",
   "source": [
    "# Steps of EM Algorithm"
   ],
   "metadata": {
    "collapsed": false
   },
   "id": "687d9be325fc30f4"
  },
  {
   "cell_type": "markdown",
   "source": [
    "###### Step 1: Given a set of incomplete data, consider a set of starting parameters (Initialization).\n",
    "###### Step 2 - Expectation (E-step): In the E-step, initial estimates are made and probabilities are assigned to each observation based on these estimates.\n",
    "###### Step 3 - Maximization (M-step): In the M-step, the assigned probabilities from the E-step are used to update the estimates, refining them based on the assigned weights.\n",
    "###### Step 4 - Iteration: The E-step and M-step are repeated iteratively, with each iteration improving the estimates based on the updated probabilities.\n",
    "###### Step 5 - Convergence: The iterative process continues until convergence, where the estimates reach a stable state and the algorithm stops updating.\n",
    "<br>\n",
    "<br>\n",
    "<center>\n",
    "    <img src=\"https://www.googleapis.com/download/storage/v1/b/kaggle-forum-message-attachments/o/inbox%2F8226007%2F4dc665c51e1f5000a6e68cf5f7ff766a%2FEM%20Algo_New.png?generation=1689604291527384&alt=media\" alt=\"EM algo steps\">\n",
    "</center>\n"
   ],
   "metadata": {
    "collapsed": false
   },
   "id": "f2c9bd75a64e4441"
  },
  {
   "cell_type": "markdown",
   "source": [],
   "metadata": {
    "collapsed": false
   },
   "id": "c60bd8feb18b236a"
  },
  {
   "cell_type": "code",
   "execution_count": 1,
   "outputs": [],
   "source": [
    "from sklearn.datasets import load_iris\n",
    "from sklearn.preprocessing import StandardScaler\n",
    "from scipy.stats import multivariate_normal\n",
    "from matplotlib import pyplot as plt\n",
    "import numpy as np"
   ],
   "metadata": {
    "collapsed": false,
    "ExecuteTime": {
     "end_time": "2024-01-22T22:37:57.114788600Z",
     "start_time": "2024-01-22T22:37:54.375994600Z"
    }
   },
   "id": "d973cdab96bd9dd0"
  },
  {
   "cell_type": "code",
   "execution_count": 2,
   "outputs": [],
   "source": [
    "# Function to initialize parameters for EM algorithm\n",
    "def initialize_parameters(num_clusters, num_features):\n",
    "    means = np.random.rand(num_clusters, num_features)\n",
    "    covariances = np.array([np.identity(num_features) for _ in range(num_clusters)])\n",
    "    weights = np.ones(num_clusters) / num_clusters\n",
    "    return means, covariances, weights"
   ],
   "metadata": {
    "collapsed": false,
    "ExecuteTime": {
     "end_time": "2024-01-22T22:37:57.135376100Z",
     "start_time": "2024-01-22T22:37:57.117854600Z"
    }
   },
   "id": "a698e5219cc80121"
  },
  {
   "cell_type": "code",
   "execution_count": 3,
   "outputs": [],
   "source": [
    "# EM algorithm for clustering\n",
    "def EM_algorithm(x_data, num_clusters, max_iterations=100, tolerance=1e-4):\n",
    "    num_samples, num_features = x_data.shape\n",
    "    means, covariances, weights = initialize_parameters(num_clusters, num_features)\n",
    "\n",
    "    means_prev = means.copy()  # Initialize means_prev here\n",
    "\n",
    "    for iteration in range(max_iterations):\n",
    "        # E-step\n",
    "        e_matrix = E_step(x_data, means, covariances, weights)\n",
    "        \n",
    "        # M-step\n",
    "        means, covariances, weights = M_step(x_data, e_matrix)\n",
    "\n",
    "        # Check convergence\n",
    "        if np.linalg.norm(means - means_prev) < tolerance:\n",
    "            break\n",
    "\n",
    "        means_prev = means.copy()\n",
    "\n",
    "    return means, covariances, weights, e_matrix"
   ],
   "metadata": {
    "collapsed": false,
    "ExecuteTime": {
     "end_time": "2024-01-22T22:37:57.185067Z",
     "start_time": "2024-01-22T22:37:57.145025800Z"
    }
   },
   "id": "e15526bd0b0115a0"
  },
  {
   "cell_type": "code",
   "execution_count": 4,
   "outputs": [],
   "source": [
    "# Function to perform the E-step\n",
    "def E_step(x_data, means, covariances, weights):\n",
    "    num_clusters = len(means)\n",
    "    num_samples = len(x_data)\n",
    "\n",
    "    e_matrix = np.zeros((num_samples, num_clusters))\n",
    "\n",
    "    for i in range(num_clusters):\n",
    "        # Multivariate Gaussian PDF\n",
    "        pdf_values = weights[i] * multivariate_normal.pdf(x_data, mean=means[i], cov=covariances[i])\n",
    "        e_matrix[:, i] = pdf_values\n",
    "\n",
    "    # Normalize\n",
    "    e_matrix /= e_matrix.sum(axis=1, keepdims=True)\n",
    "\n",
    "    return e_matrix"
   ],
   "metadata": {
    "collapsed": false,
    "ExecuteTime": {
     "end_time": "2024-01-22T22:37:57.187371700Z",
     "start_time": "2024-01-22T22:37:57.166600900Z"
    }
   },
   "id": "fe93aebe4c70eccc"
  },
  {
   "cell_type": "code",
   "execution_count": 5,
   "outputs": [],
   "source": [
    "# Function to perform the M-step\n",
    "def M_step(x_data, e_matrix):\n",
    "    num_clusters = e_matrix.shape[1]\n",
    "    num_samples, num_features = x_data.shape\n",
    "\n",
    "    # Update means\n",
    "    means = np.dot(e_matrix.T, x_data) / e_matrix.sum(axis=0)[:, np.newaxis]\n",
    "\n",
    "    # Update covariances\n",
    "    covariances = np.zeros((num_clusters, num_features, num_features))\n",
    "    for i in range(num_clusters):\n",
    "        diff = x_data - means[i]\n",
    "        covariances[i] = np.dot(e_matrix[:, i] * diff.T, diff) / e_matrix[:, i].sum()\n",
    "\n",
    "    # Update weights\n",
    "    weights = e_matrix.sum(axis=0) / num_samples\n",
    "\n",
    "    return means, covariances, weights"
   ],
   "metadata": {
    "collapsed": false,
    "ExecuteTime": {
     "end_time": "2024-01-22T22:37:57.197999800Z",
     "start_time": "2024-01-22T22:37:57.188366500Z"
    }
   },
   "id": "2f6545ae0c2b9714"
  },
  {
   "cell_type": "code",
   "execution_count": 6,
   "outputs": [],
   "source": [
    "# Load Iris dataset\n",
    "iris = load_iris()\n",
    "x_data = iris.data\n",
    "\n",
    "# Standardize the data\n",
    "scaler = StandardScaler()\n",
    "x_data = scaler.fit_transform(x_data)"
   ],
   "metadata": {
    "collapsed": false,
    "ExecuteTime": {
     "end_time": "2024-01-22T22:37:57.242438600Z",
     "start_time": "2024-01-22T22:37:57.205492600Z"
    }
   },
   "id": "bcbb5d9b451962bc"
  },
  {
   "cell_type": "code",
   "execution_count": 7,
   "outputs": [
    {
     "name": "stdout",
     "output_type": "stream",
     "text": [
      "Number of clusters: 3\n"
     ]
    }
   ],
   "source": [
    "# Set the number of clusters\n",
    "num_clusters = 3\n",
    "\n",
    "# Run EM algorithm\n",
    "means, covariances, weights, e_matrix = EM_algorithm(x_data, num_clusters)\n",
    "\n",
    "# Print the number of clusters\n",
    "print(\"Number of clusters:\", num_clusters)"
   ],
   "metadata": {
    "collapsed": false,
    "ExecuteTime": {
     "end_time": "2024-01-22T22:37:57.344870300Z",
     "start_time": "2024-01-22T22:37:57.226985500Z"
    }
   },
   "id": "f487fb7cf4e35598"
  },
  {
   "cell_type": "code",
   "execution_count": 8,
   "outputs": [
    {
     "data": {
      "text/plain": "<Figure size 640x480 with 1 Axes>",
      "image/png": "[encoded data removed]"
     },
     "metadata": {},
     "output_type": "display_data"
    }
   ],
   "source": [
    "# Plot the results\n",
    "colors = ['red', 'green', 'blue']\n",
    "labels = np.argmax(e_matrix, axis=1)\n",
    "\n",
    "for i in range(num_clusters):\n",
    "    plt.scatter(x_data[labels == i, 0], x_data[labels == i, 1], c=colors[i], label=f'Cluster {i + 1}')\n",
    "\n",
    "plt.scatter(means[:, 0], means[:, 1], c='black', marker='x', label='Cluster Centers')\n",
    "plt.xlabel('Sepal Length (cm)')\n",
    "plt.ylabel('FSepal Width (cm)')\n",
    "plt.legend()\n",
    "plt.title('EM Clustering on Iris Dataset')\n",
    "plt.show()"
   ],
   "metadata": {
    "collapsed": false,
    "ExecuteTime": {
     "end_time": "2024-01-22T22:37:57.709186300Z",
     "start_time": "2024-01-22T22:37:57.339234800Z"
    }
   },
   "id": "927f944b00c1fb60"
  }
 ],
 "metadata": {
  "kernelspec": {
   "display_name": "Python 3",
   "language": "python",
   "name": "python3"
  },
  "language_info": {
   "codemirror_mode": {
    "name": "ipython",
    "version": 2
   },
   "file_extension": ".py",
   "mimetype": "text/x-python",
   "name": "python",
   "nbconvert_exporter": "python",
   "pygments_lexer": "ipython2",
   "version": "2.7.6"
  }
 },
 "nbformat": 4,
 "nbformat_minor": 5
}
