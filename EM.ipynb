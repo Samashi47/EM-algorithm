{
 "cells": [
  {
   "cell_type": "markdown",
   "source": [
    "##### MST IASD 2023-2024 (Département Génie Informatique)\n",
    "##### Sujet 8 : Méthode probabiliste\n",
    "##### Group membres : Chibani Fahd,Samady Ahmed et FAKHRE-EDDINE MOHAMED AMINE\n",
    "##### Dataset: \n",
    "##### Modèle : EM-algorithme"
   ],
   "metadata": {
    "collapsed": false
   },
   "id": "d98f06c88901487e"
  },
  {
   "cell_type": "markdown",
   "source": [
    "# What is the Expectation-Maximization algorithm"
   ],
   "metadata": {
    "collapsed": false
   },
   "id": "23dfa359180e7700"
  },
  {
   "cell_type": "markdown",
   "source": [
    "###### The Expectation-Maximization (EM) algorithm is a powerful statistical technique widely employed in various fields, including machine learning, statistics, and data analysis. Developed as a general framework for estimating parameters in probabilistic models, EM is particularly adept at handling situations involving incomplete or missing data."
   ],
   "metadata": {
    "collapsed": false
   },
   "id": "a680bc1b3a7226e0"
  },
  {
   "cell_type": "markdown",
   "source": [
    "# Uses of EM Algorithm"
   ],
   "metadata": {
    "collapsed": false
   },
   "id": "474b87014656668b"
  },
  {
   "cell_type": "markdown",
   "source": [
    "###### - Used in part-of-speech tagging to identify and label parts of speech in a given text.\n",
    "###### - Used as the basis of the unsupervised learning of clusters.\n",
    "###### - Used in bioinformatics for tasks such as protein structure prediction and gene expression analysis.\n",
    "###### - Applied in pattern recognition tasks, such as handwriting recognition and face recognition.\n",
    "###### - Used in the field of image processing for tasks such as image segmentation and object recognition.\n",
    "###### These are just a few examples, and the EM algorithm has broad applicability across different domains"
   ],
   "metadata": {
    "collapsed": false
   },
   "id": "4a71f88ac7cef594"
  },
  {
   "cell_type": "markdown",
   "source": [
    "# Steps of EM Algorithm"
   ],
   "metadata": {
    "collapsed": false
   },
   "id": "687d9be325fc30f4"
  },
  {
   "cell_type": "markdown",
   "source": [
    "###### Step 1: Given a set of incomplete data, consider a set of starting parameters (Initialization).\n",
    "###### Step 2 - Expectation (E-step): In the E-step, initial estimates are made and probabilities are assigned to each observation based on these estimates.\n",
    "###### Step 3 - Maximization (M-step): In the M-step, the assigned probabilities from the E-step are used to update the estimates, refining them based on the assigned weights.\n",
    "###### Step 4 - Iteration: The E-step and M-step are repeated iteratively, with each iteration improving the estimates based on the updated probabilities.\n",
    "###### Step 5 - Convergence: The iterative process continues until convergence, where the estimates reach a stable state and the algorithm stops updating.\n",
    "<br>\n",
    "<br>\n",
    "<center>\n",
    "    <img src=\"https://www.googleapis.com/download/storage/v1/b/kaggle-forum-message-attachments/o/inbox%2F8226007%2F4dc665c51e1f5000a6e68cf5f7ff766a%2FEM%20Algo_New.png?generation=1689604291527384&alt=media\" alt=\"EM algo steps\">\n",
    "</center>\n"
   ],
   "metadata": {
    "collapsed": false
   },
   "id": "f2c9bd75a64e4441"
  },
  {
   "cell_type": "markdown",
   "source": [],
   "metadata": {
    "collapsed": false
   },
   "id": "c60bd8feb18b236a"
  },
  {
   "cell_type": "code",
   "execution_count": 19,
   "outputs": [],
   "source": [
    "import numpy as np\n",
    "from sklearn import datasets\n",
    "import matplotlib.pyplot as plt\n",
    "\n",
    "# Load Iris dataset\n",
    "iris = datasets.load_iris()\n",
    "X = iris.data[:, :2]  # Consider only the first two features for simplicity"
   ],
   "metadata": {
    "collapsed": false,
    "ExecuteTime": {
     "end_time": "2024-01-21T21:26:06.528752600Z",
     "start_time": "2024-01-21T21:26:05.455203400Z"
    }
   },
   "id": "d973cdab96bd9dd0"
  },
  {
   "cell_type": "code",
   "execution_count": 20,
   "outputs": [],
   "source": [
    "# Function to initialize parameters\n",
    "def initialize_parameters(X, num_clusters):\n",
    "    n_samples, n_features = X.shape\n",
    "    mean = X[np.random.choice(n_samples, num_clusters, replace=False)]\n",
    "    cov = [np.eye(n_features) for _ in range(num_clusters)]\n",
    "    weight = np.ones(num_clusters) / num_clusters\n",
    "    return mean, cov, weight"
   ],
   "metadata": {
    "collapsed": false,
    "ExecuteTime": {
     "end_time": "2024-01-21T21:26:06.562234900Z",
     "start_time": "2024-01-21T21:26:06.539217100Z"
    }
   },
   "id": "a698e5219cc80121"
  },
  {
   "cell_type": "code",
   "execution_count": 21,
   "outputs": [],
   "source": [
    "# Function to calculate the probability density function of multivariate normal distribution\n",
    "def multivariate_normal_pdf(x, mean, cov):\n",
    "    k = len(mean)\n",
    "    det_cov = np.linalg.det(cov)\n",
    "    inv_cov = np.linalg.inv(cov)\n",
    "    exponent = -0.5 * np.dot(np.dot((x - mean).T, inv_cov), (x - mean))\n",
    "    return (1 / ((2 * np.pi) ** (k / 2) * det_cov ** 0.5)) * np.exp(exponent)\n"
   ],
   "metadata": {
    "collapsed": false,
    "ExecuteTime": {
     "end_time": "2024-01-21T21:26:06.592559900Z",
     "start_time": "2024-01-21T21:26:06.565013700Z"
    }
   },
   "id": "e15526bd0b0115a0"
  },
  {
   "cell_type": "code",
   "execution_count": 22,
   "outputs": [],
   "source": [
    "# Function to perform Expectation step\n",
    "def expectation_step(X, mean, cov, weight):\n",
    "    num_clusters = len(mean)\n",
    "    n_samples = X.shape[0]\n",
    "    responsibilities = np.zeros((n_samples, num_clusters))\n",
    "\n",
    "    for i in range(num_clusters):\n",
    "        for j in range(n_samples):\n",
    "            responsibilities[j, i] = weight[i] * multivariate_normal_pdf(X[j], mean[i], cov[i])\n",
    "\n",
    "    responsibilities /= responsibilities.sum(axis=1, keepdims=True)\n",
    "    return responsibilities"
   ],
   "metadata": {
    "collapsed": false,
    "ExecuteTime": {
     "end_time": "2024-01-21T21:26:06.592559900Z",
     "start_time": "2024-01-21T21:26:06.577680600Z"
    }
   },
   "id": "fe93aebe4c70eccc"
  },
  {
   "cell_type": "code",
   "execution_count": 23,
   "outputs": [],
   "source": [
    "# Function to perform Maximization step\n",
    "def maximization_step(X, responsibilities):\n",
    "    num_clusters = responsibilities.shape[1]\n",
    "    n_samples, n_features = X.shape\n",
    "\n",
    "    # Update weights\n",
    "    weight = responsibilities.sum(axis=0) / n_samples\n",
    "\n",
    "    # Update mean\n",
    "    mean = np.dot(responsibilities.T, X) / responsibilities.sum(axis=0, keepdims=True).T\n",
    "\n",
    "    # Update covariance\n",
    "    cov = [np.zeros((n_features, n_features)) for _ in range(num_clusters)]\n",
    "    for i in range(num_clusters):\n",
    "        for j in range(n_samples):\n",
    "            diff = X[j] - mean[i]\n",
    "            cov[i] += responsibilities[j, i] * np.outer(diff, diff)\n",
    "        cov[i] /= responsibilities[:, i].sum()\n",
    "\n",
    "    return mean, cov, weight"
   ],
   "metadata": {
    "collapsed": false,
    "ExecuteTime": {
     "end_time": "2024-01-21T21:26:06.607539400Z",
     "start_time": "2024-01-21T21:26:06.588871300Z"
    }
   },
   "id": "2f6545ae0c2b9714"
  },
  {
   "cell_type": "code",
   "execution_count": 24,
   "outputs": [],
   "source": [
    "# Function to calculate log-likelihood\n",
    "def calculate_log_likelihood(X, mean, cov, weight):\n",
    "    num_clusters = len(mean)\n",
    "    n_samples = X.shape[0]\n",
    "\n",
    "    log_likelihood = 0\n",
    "    for i in range(n_samples):\n",
    "        likelihood = sum(weight[j] * multivariate_normal_pdf(X[i], mean[j], cov[j]) for j in range(num_clusters))\n",
    "        log_likelihood += np.log(likelihood)\n",
    "\n",
    "    return log_likelihood"
   ],
   "metadata": {
    "collapsed": false,
    "ExecuteTime": {
     "end_time": "2024-01-21T21:26:06.607539400Z",
     "start_time": "2024-01-21T21:26:06.596637500Z"
    }
   },
   "id": "bcbb5d9b451962bc"
  },
  {
   "cell_type": "code",
   "execution_count": 25,
   "outputs": [],
   "source": [
    "# Function to perform EM algorithm\n",
    "def expectation_maximization(X, num_clusters, max_iterations=100, tol=1e-4):\n",
    "    mean, cov, weight = initialize_parameters(X, num_clusters)\n",
    "\n",
    "    for iteration in range(max_iterations):\n",
    "        # Expectation step\n",
    "        responsibilities = expectation_step(X, mean, cov, weight)\n",
    "\n",
    "        # Maximization step\n",
    "        mean, cov, weight = maximization_step(X, responsibilities)\n",
    "\n",
    "        # Calculate log-likelihood\n",
    "        log_likelihood = calculate_log_likelihood(X, mean, cov, weight)\n",
    "\n",
    "        # Convergence check\n",
    "        if iteration > 0 and np.abs(log_likelihood - prev_log_likelihood) < tol:\n",
    "            break\n",
    "\n",
    "        prev_log_likelihood = log_likelihood\n",
    "\n",
    "    return mean, cov, weight"
   ],
   "metadata": {
    "collapsed": false,
    "ExecuteTime": {
     "end_time": "2024-01-21T21:26:06.618847500Z",
     "start_time": "2024-01-21T21:26:06.609107900Z"
    }
   },
   "id": "f487fb7cf4e35598"
  },
  {
   "cell_type": "code",
   "execution_count": 26,
   "outputs": [],
   "source": [
    "# Perform EM algorithm with 2 clusters\n",
    "num_clusters = 2\n",
    "mean, cov, weight = expectation_maximization(X, num_clusters)\n",
    "\n",
    "# Assign clusters based on maximum responsibility\n",
    "responsibilities = expectation_step(X, mean, cov, weight)\n",
    "clusters = np.argmax(responsibilities, axis=1)"
   ],
   "metadata": {
    "collapsed": false,
    "ExecuteTime": {
     "end_time": "2024-01-21T21:26:07.057549500Z",
     "start_time": "2024-01-21T21:26:06.615839700Z"
    }
   },
   "id": "927f944b00c1fb60"
  },
  {
   "cell_type": "code",
   "execution_count": 27,
   "outputs": [
    {
     "data": {
      "text/plain": "<Figure size 640x480 with 1 Axes>",
      "image/png": "[encoded data removed]"
     },
     "metadata": {},
     "output_type": "display_data"
    }
   ],
   "source": [
    "\n",
    "# Plot the results\n",
    "plt.scatter(X[:, 0], X[:, 1], c=clusters, cmap='viridis')\n",
    "plt.scatter(mean[:, 0], mean[:, 1], c='red', marker='X', s=200, label='Cluster Centers')\n",
    "plt.title('EM Clustering of Iris Dataset')\n",
    "plt.xlabel('Sepal Length (cm)')\n",
    "plt.ylabel('Sepal Width (cm)')\n",
    "plt.legend()\n",
    "plt.show()"
   ],
   "metadata": {
    "collapsed": false,
    "ExecuteTime": {
     "end_time": "2024-01-21T21:26:07.237188300Z",
     "start_time": "2024-01-21T21:26:07.066177Z"
    }
   },
   "id": "790eef83262c1454"
  }
 ],
 "metadata": {
  "kernelspec": {
   "display_name": "Python 3",
   "language": "python",
   "name": "python3"
  },
  "language_info": {
   "codemirror_mode": {
    "name": "ipython",
    "version": 2
   },
   "file_extension": ".py",
   "mimetype": "text/x-python",
   "name": "python",
   "nbconvert_exporter": "python",
   "pygments_lexer": "ipython2",
   "version": "2.7.6"
  }
 },
 "nbformat": 4,
 "nbformat_minor": 5
}
